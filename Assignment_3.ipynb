{
 "cells": [
  {
   "cell_type": "markdown",
   "id": "c60d384b",
   "metadata": {},
   "source": [
    "Q1. Write a Python function to sum all the numbers in a list.\n",
    "\n",
    "\n",
    "\n",
    "Sample List : (8, 2, 3, 0, 7)\n",
    "\n",
    "Expected Output : 20\n",
    "\n",
    "\n",
    "\n",
    "Explanation:\n",
    "\n",
    "\n",
    "\n",
    "Summation should like 8+2+3+0+7 = 20\n",
    "\n"
   ]
  },
  {
   "cell_type": "code",
   "execution_count": 4,
   "id": "024796e1",
   "metadata": {},
   "outputs": [
    {
     "name": "stdout",
     "output_type": "stream",
     "text": [
      "20\n"
     ]
    }
   ],
   "source": [
    "def sum_list(num):\n",
    "    total = 0\n",
    "    for i in num:\n",
    "        total += i\n",
    "    return total\n",
    "x = sum_list((8,2,3,0,7))\n",
    "print(x)"
   ]
  },
  {
   "cell_type": "markdown",
   "id": "67a2f580",
   "metadata": {},
   "source": [
    "Q2. Write a Python program to reverse a string.\n",
    "\n",
    "\n",
    "\n",
    "Sample String : \"1234abcd\"\n",
    "\n",
    "Expected Output : \"dcba4321\"\n",
    "\n"
   ]
  },
  {
   "cell_type": "code",
   "execution_count": 16,
   "id": "cd284aff",
   "metadata": {},
   "outputs": [
    {
     "name": "stdout",
     "output_type": "stream",
     "text": [
      "dcba4321\n"
     ]
    }
   ],
   "source": [
    "def reverse(string):\n",
    "    if len(string) == 0:\n",
    "        return string\n",
    "    else:\n",
    "        return reverse(string[1:]) + string[0]\n",
    "\n",
    "y=reverse(\"1234abcd\")\n",
    "print(y)\n"
   ]
  },
  {
   "cell_type": "markdown",
   "id": "6770c75e",
   "metadata": {},
   "source": [
    "Q3. Write a Python function that accepts a string and calculate the number of upper case letters and lower case letters.\n",
    "\n",
    "\n",
    "\n",
    "﻿Sample String : 'The quick Brow Fox'\n",
    "\n",
    "Expected Output :\n",
    "\n",
    "No. of Upper case characters : 3\n",
    "\n",
    "No. of Lower case Characters : 12\n",
    "\n"
   ]
  },
  {
   "cell_type": "code",
   "execution_count": 20,
   "id": "c76e2e7b",
   "metadata": {},
   "outputs": [
    {
     "name": "stdout",
     "output_type": "stream",
     "text": [
      "The quick Brow Fox\n",
      "upper count is : 3\n",
      "lower count is : 12\n"
     ]
    }
   ],
   "source": [
    "string = input()\n",
    "lower_count = 0\n",
    "upper_count = 0\n",
    "for x in string:\n",
    "    if(x.islower()):\n",
    "        lower_count += 1\n",
    "    elif(x.isupper()):\n",
    "        upper_count += 1\n",
    "        \n",
    "print(\"upper count is :\",upper_count)\n",
    "print(\"lower count is :\",lower_count)"
   ]
  },
  {
   "cell_type": "code",
   "execution_count": null,
   "id": "75467649",
   "metadata": {},
   "outputs": [],
   "source": []
  }
 ],
 "metadata": {
  "kernelspec": {
   "display_name": "Python 3",
   "language": "python",
   "name": "python3"
  },
  "language_info": {
   "codemirror_mode": {
    "name": "ipython",
    "version": 3
   },
   "file_extension": ".py",
   "mimetype": "text/x-python",
   "name": "python",
   "nbconvert_exporter": "python",
   "pygments_lexer": "ipython3",
   "version": "3.6.13"
  }
 },
 "nbformat": 4,
 "nbformat_minor": 5
}
