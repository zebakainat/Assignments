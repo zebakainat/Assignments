{
 "cells": [
  {
   "cell_type": "markdown",
   "id": "architectural-murray",
   "metadata": {},
   "source": [
    "Q1.Write a Python program to get the Fibonacci series between 0 to 50?\n",
    "\n"
   ]
  },
  {
   "cell_type": "code",
   "execution_count": null,
   "id": "concrete-testament",
   "metadata": {},
   "outputs": [],
   "source": [
    "n = int(input())\n",
    "x=0\n",
    "y=1\n",
    "for i in range(0,n):\n",
    "    if i <= 1:\n",
    "        fibo = i\n",
    "    else:\n",
    "        fibo = x + y\n",
    "        x = y\n",
    "        y = fibo\n",
    "    print(fibo)"
   ]
  },
  {
   "cell_type": "markdown",
   "id": "exclusive-accused",
   "metadata": {},
   "source": [
    "Q2. Write a Python program that accepts a word from the user and reverse it?"
   ]
  },
  {
   "cell_type": "code",
   "execution_count": 2,
   "id": "abroad-desert",
   "metadata": {},
   "outputs": [
    {
     "name": "stdout",
     "output_type": "stream",
     "text": [
      "Edyoda\n",
      "adoydE\n"
     ]
    }
   ],
   "source": [
    "x = str(input())\n",
    "print(x[::-1])\n"
   ]
  },
  {
   "cell_type": "markdown",
   "id": "round-richards",
   "metadata": {},
   "source": [
    "Q3. Write a Python program to count the number of even and odd numbers from a series of numbers? Sample numbers : numbers = (1, 2, 3, 4, 5, 6, 7, 8, 9) Expected Output : Number of even numbers : 5 Number of odd numbers : 4"
   ]
  },
  {
   "cell_type": "code",
   "execution_count": 3,
   "id": "incident-policy",
   "metadata": {},
   "outputs": [
    {
     "name": "stdout",
     "output_type": "stream",
     "text": [
      "Number of even numbers :  4\n",
      "Number of odd numbers :  5\n"
     ]
    }
   ],
   "source": [
    "even_count = 0\n",
    "odd_count = 0\n",
    "\n",
    "numbers = (1, 2, 3, 4, 5, 6, 7, 8, 9)\n",
    "for i in numbers:\n",
    "    if (i%2==0):\n",
    "        even_count += 1\n",
    "    else:\n",
    "        odd_count += 1\n",
    "print(\"Number of even numbers : \",even_count)\n",
    "print(\"Number of odd numbers : \",odd_count)\n",
    "        "
   ]
  },
  {
   "cell_type": "code",
   "execution_count": null,
   "id": "adopted-harrison",
   "metadata": {},
   "outputs": [],
   "source": []
  }
 ],
 "metadata": {
  "kernelspec": {
   "display_name": "Python 3",
   "language": "python",
   "name": "python3"
  },
  "language_info": {
   "codemirror_mode": {
    "name": "ipython",
    "version": 3
   },
   "file_extension": ".py",
   "mimetype": "text/x-python",
   "name": "python",
   "nbconvert_exporter": "python",
   "pygments_lexer": "ipython3",
   "version": "3.6.13"
  }
 },
 "nbformat": 4,
 "nbformat_minor": 5
}
