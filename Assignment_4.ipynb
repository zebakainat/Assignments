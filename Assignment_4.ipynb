{
 "cells": [
  {
   "cell_type": "markdown",
   "id": "69a1058b",
   "metadata": {},
   "source": [
    "Q1. Write a Python program to create a lambda function that adds 25 to a given number passed in as an argument.\n",
    "    \n",
    "\n",
    "\n",
    "sample input: 10\n",
    "\n",
    "sample output: 35\n"
   ]
  },
  {
   "cell_type": "code",
   "execution_count": 16,
   "id": "81206854",
   "metadata": {},
   "outputs": [
    {
     "name": "stdout",
     "output_type": "stream",
     "text": [
      "[35]\n"
     ]
    }
   ],
   "source": [
    "l = [10]\n",
    "\n",
    "output=list(map(lambda add : add + 25 , l))\n",
    "print(output)"
   ]
  },
  {
   "cell_type": "markdown",
   "id": "a16b1b54",
   "metadata": {},
   "source": [
    "Q2. Write a Python program to triple all numbers of a given list of integers. Use Python map.\n",
    "\n",
    "\n",
    "\n",
    "sample list: [1, 2, 3, 4, 5, 6, 7]\n",
    "\n",
    "\n",
    "\n",
    "Triple of list numbers:\n",
    "\n",
    "[3, 6, 9, 12, 15, 18, 21]"
   ]
  },
  {
   "cell_type": "code",
   "execution_count": 14,
   "id": "8c1c461b",
   "metadata": {},
   "outputs": [
    {
     "name": "stdout",
     "output_type": "stream",
     "text": [
      "[3, 6, 9, 12, 15, 18, 21]\n"
     ]
    }
   ],
   "source": [
    "c = [1,2,3,4,5,6,7]\n",
    "\n",
    "def triple(x):\n",
    "    return 3*x\n",
    "\n",
    "result=list(map(triple,c))\n",
    "print(result)\n",
    " \n",
    "    "
   ]
  },
  {
   "cell_type": "markdown",
   "id": "20fdeee2",
   "metadata": {},
   "source": [
    "Q3. Write a Python program to square the elements of a list using map() function.\n",
    "\n",
    "\n",
    "\n",
    "Sample List: [4, 5, 2, 9]\n",
    "\n",
    "Square the elements of the list:\n",
    "\n",
    "[16, 25, 4, 81]\n",
    "\n"
   ]
  },
  {
   "cell_type": "code",
   "execution_count": 13,
   "id": "0c93b153",
   "metadata": {},
   "outputs": [
    {
     "name": "stdout",
     "output_type": "stream",
     "text": [
      "[16, 25, 4, 81]\n"
     ]
    }
   ],
   "source": [
    "d =  [4,5,2,9]\n",
    "\n",
    "def square(y):\n",
    "    return y*y\n",
    "\n",
    "number=list(map(square,d))\n",
    "print(number)"
   ]
  },
  {
   "cell_type": "code",
   "execution_count": null,
   "id": "a4f228ae",
   "metadata": {},
   "outputs": [],
   "source": []
  }
 ],
 "metadata": {
  "kernelspec": {
   "display_name": "Python 3",
   "language": "python",
   "name": "python3"
  },
  "language_info": {
   "codemirror_mode": {
    "name": "ipython",
    "version": 3
   },
   "file_extension": ".py",
   "mimetype": "text/x-python",
   "name": "python",
   "nbconvert_exporter": "python",
   "pygments_lexer": "ipython3",
   "version": "3.6.13"
  }
 },
 "nbformat": 4,
 "nbformat_minor": 5
}
